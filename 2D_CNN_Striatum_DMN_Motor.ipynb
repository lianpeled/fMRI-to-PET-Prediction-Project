{
  "cells": [
    {
      "cell_type": "code",
      "execution_count": null,
      "metadata": {
        "colab": {
          "base_uri": "https://localhost:8080/"
        },
        "id": "pNo7v_hNGYEx",
        "outputId": "5e6f87d6-eef5-405d-b6f3-2736ee182de3"
      },
      "outputs": [
        {
          "output_type": "stream",
          "name": "stdout",
          "text": [
            "Mounted at /content/drive\n"
          ]
        }
      ],
      "source": [
        "from google.colab import drive\n",
        "drive.mount('/content/drive')"
      ]
    },
    {
      "cell_type": "code",
      "execution_count": null,
      "metadata": {
        "id": "iIwM48nCGoCW"
      },
      "outputs": [],
      "source": [
        "import os\n",
        "import nibabel as nib\n",
        "import matplotlib.pyplot as plt\n",
        "import numpy as np\n",
        "import seaborn as sns\n",
        "from sklearn.preprocessing import StandardScaler\n",
        "from sklearn.feature_selection import r_regression\n",
        "import keras\n",
        "from keras import layers, models\n",
        "from keras.callbacks import EarlyStopping"
      ]
    },
    {
      "cell_type": "code",
      "execution_count": null,
      "metadata": {
        "id": "kiqaHyfuASGf"
      },
      "outputs": [],
      "source": [
        "mask = nib.load('/content/drive/MyDrive/1 Sagol Project/Mask/Tian_Subcortex_S3_3T.nii').get_fdata()\n",
        "\n",
        "striatum = list(range(11, 19)) + list(range(22,24)) + list(range(36, 44)) + list(range(47,49))\n",
        "\n",
        "\n",
        "bool_mask = np.isin(mask, striatum)\n",
        "\n",
        "mask[~bool_mask] = 0\n",
        "mask[bool_mask] = 1\n",
        "\n",
        "mask = mask.flatten()\n",
        "mask = np.stack([mask for i in range(50)])\n",
        "mask = np.transpose(mask)\n"
      ]
    },
    {
      "cell_type": "code",
      "source": [
        "pet_folder_path = '/content/drive/MyDrive/1 Sagol Project/PET/'\n",
        "\n",
        "# load PET data\n",
        "\n",
        "original_Y = []\n",
        "\n",
        "for file in os.listdir(pet_folder_path):\n",
        "  file_path = os.path.join(pet_folder_path, file)\n",
        "  temp_pet = nib.load(file_path).get_fdata()\n",
        "  temp_pet = temp_pet.flatten()[mask[:,0] != 0]\n",
        "  original_Y.append(temp_pet)\n"
      ],
      "metadata": {
        "id": "I9I2KFNrd5xe"
      },
      "execution_count": null,
      "outputs": []
    },
    {
      "cell_type": "code",
      "execution_count": null,
      "metadata": {
        "id": "ROmbLYDvubPr"
      },
      "outputs": [],
      "source": [
        "# load fMRI data that has been standardized\n",
        "\n",
        "X = np.loadtxt('/content/drive/MyDrive/1 Sagol Project/Linear Models/Multi Output Regression/X_Multi_Output_Striatum_Only.txt')"
      ]
    },
    {
      "cell_type": "code",
      "source": [
        "# format fMRI data according to model 2D structure\n",
        "\n",
        "X_reshaped = X.reshape((260, 91, 109, 50))\n",
        "\n",
        "DMN_Motor = [2,3,4,5,7,8,21,23,24,39,40,47,49]\n",
        "X_segmented = [X_reshaped[:,:,:,i] for i in DMN_Motor]\n",
        "\n",
        "X_partition = [0 for i in range(13)]\n",
        "\n",
        "for j in range(13):\n",
        "\n",
        "  X_partition[j] = [0 for i in range(26)]\n",
        "\n",
        "  for i in range(26):\n",
        "\n",
        "    X_partition[j][i] = X_segmented[j][10*i:10*(i+1),:]"
      ],
      "metadata": {
        "id": "g11tgFJmERCe"
      },
      "execution_count": null,
      "outputs": []
    },
    {
      "cell_type": "code",
      "execution_count": null,
      "metadata": {
        "id": "UTHVLJVwzf4v"
      },
      "outputs": [],
      "source": [
        "# format PET data to model 2D structure\n",
        "\n",
        "Y_list = []\n",
        "\n",
        "for i in range(26):\n",
        "  pet_copy = np.copy(original_Y[i])\n",
        "\n",
        "  unmasked_pet = np.copy(mask[:,0])\n",
        "\n",
        "  for k in range(len(mask[:,0])):\n",
        "    if unmasked_pet[k] == 1:\n",
        "      unmasked_pet[k] = pet_copy[0];\n",
        "      pet_copy = pet_copy[1:];\n",
        "\n",
        "  Y_list.append(unmasked_pet.reshape((91,109,91)));\n",
        "\n",
        "temp_Y = np.zeros((260, 91, 109))\n",
        "k = 0\n",
        "\n",
        "for i in range(26):\n",
        "\n",
        "  for j in range(30,40):\n",
        "\n",
        "    temp_Y[k, :, :] = Y_list[i][:,:,j]\n",
        "    k += 1\n",
        "\n",
        "Y_list = [0 for i in range(26)]\n",
        "for i in range(26):\n",
        "  Y_list[i] = temp_Y[10*i:10*(i+1),:]\n",
        "\n",
        "Y_list_reshaped = [Y_list[i].reshape((10, 91, 109)) for i in range(26)]\n",
        "Y_list_temp = [np.zeros((91,109,91)) for i in range(26)]\n",
        "\n",
        "for i in range(26):\n",
        "  for k in range(91):\n",
        "    if k in range(30,40):\n",
        "\n",
        "      Y_list_temp[i][:, :, k] = Y_list_reshaped[i][k-30, :, :]\n",
        "\n",
        "Y_list_masked = [Y_list_temp[i].flatten() for i in range(26)]\n",
        "Y_list_masked = [Y_list_masked[i][mask[:,0] != 0] for i in range(26)]\n",
        "\n",
        "X, X_val = [0 for i in range(13)], [0 for i in range(13)]\n",
        "Y, Y_val = [0 for i in range(13)], [0 for i in range(13)]\n",
        "for i in range(13):\n",
        "  X[i], X_val[i] = X_partition[i][:20], np.concatenate(X_partition[i][20:])\n",
        "  Y[i], Y_val[i] = Y_list[:20], np.concatenate(Y_list[20:])\n",
        "\n",
        "r_matrix = np.zeros((20,20))\n",
        "batch_pred = np.zeros((3078, 4))\n",
        "r_arr = np.zeros((20,4))"
      ]
    },
    {
      "cell_type": "code",
      "source": [
        "# initialize early stopping parameter for the model\n",
        "\n",
        "callback = EarlyStopping(monitor='val_loss', patience=3)"
      ],
      "metadata": {
        "id": "dVjRNzpCkpJo"
      },
      "execution_count": null,
      "outputs": []
    },
    {
      "cell_type": "code",
      "execution_count": null,
      "metadata": {
        "id": "Maja4gKZ4DsD"
      },
      "outputs": [],
      "source": [
        "# build base encoder for each brain network\n",
        "\n",
        "def build_base_model():\n",
        "  input = keras.layers.Input(shape=(91,109,1,))\n",
        "  x = keras.layers.Conv2D(32, (3, 3), activation=\"relu\", padding='same')(input)\n",
        "  x = keras.layers.ZeroPadding2D(padding=((1,0),(1,0)))(x)\n",
        "  x = keras.layers.MaxPooling2D((2, 2), padding=\"same\")(x)\n",
        "  x = keras.layers.Conv2D(32, (3, 3), activation=\"relu\", padding=\"same\")(x)\n",
        "  x = keras.layers.ZeroPadding2D(padding=((0,0),(1,0)))(x)\n",
        "  x = keras.layers.MaxPooling2D((2, 2), padding=\"same\")(x)\n",
        "  x = keras.layers.Flatten()(x)\n",
        "  output = keras.layers.Dense(100, activation = 'relu')(x)\n",
        "  return keras.models.Model(input, output)\n",
        "\n"
      ]
    },
    {
      "cell_type": "code",
      "source": [
        "# 5-fold cross validation routine of meta-model assmebly, training and prediction\n",
        "\n",
        "for i in range(5):\n",
        "\n",
        "  inputs = [keras.layers.Input(shape=(91,109,1)) for i in range(13)]\n",
        "  models = [build_base_model() for i in range(13)]\n",
        "  x = [models[i](inputs[i]) for i in range(13)]\n",
        "  y = keras.layers.Concatenate(axis=-1)(x)\n",
        "  y = keras.layers.Dense(1344, activation = 'relu')(y)\n",
        "  y = keras.layers.Reshape((6, 7, 32))(y)\n",
        "  y = layers.Conv2DTranspose(32, (3, 3), strides=2, activation=\"relu\", padding=\"same\")(y)\n",
        "  y = layers.Conv2DTranspose(32, (3, 3), strides=2, activation=\"relu\", padding=\"same\")(y)\n",
        "  y = layers.Cropping2D(cropping=((1,0),(0,0)))(y)\n",
        "  y = layers.Conv2DTranspose(32, (3, 3), strides=2, activation=\"relu\", padding=\"same\")(y)\n",
        "  y = layers.Cropping2D(cropping=((0,0),(1,0)))(y)\n",
        "  y = layers.Conv2DTranspose(32, (3, 3), strides=2, activation=\"relu\", padding=\"same\")(y)\n",
        "  y = layers.Conv2D(1, (3, 3), activation=\"linear\", padding=\"same\")(y)\n",
        "  output = layers.Cropping2D(cropping=((1,0),(1,0)))(y)\n",
        "\n",
        "  nn = keras.models.Model(inputs,output)\n",
        "  nn.compile(loss=\"mse\", optimizer='adam')\n",
        "\n",
        "  features, target, test = [0 for n in range(13)], [0 for n in range(13)], [0 for n in range(13)]\n",
        "\n",
        "  for l in range(13):\n",
        "    features[l] = np.concatenate(X[l][:16])\n",
        "    target[l] = np.concatenate(Y[l][:16])\n",
        "    test[l] = np.concatenate(X[l][16:])\n",
        "\n",
        "  nn.fit(features, target, epochs = 100, batch_size = 1,\n",
        "                shuffle=True, validation_data = (X_val, Y_val,),\n",
        "                   verbose = 1, callbacks = [callback])\n",
        "  pred = nn.predict(test)\n",
        "  pred = np.split(pred, 4)\n",
        "\n",
        "  for j in range(4):\n",
        "\n",
        "    temp_pred = pred[j]\n",
        "\n",
        "    temp_pred_masked = np.zeros((91,109,91))\n",
        "\n",
        "    for k in range(91):\n",
        "      if k in range(30,40):\n",
        "        temp_pred_masked[:, :, k] = temp_pred[k-30, :, :,0]\n",
        "\n",
        "    temp_pred_masked = temp_pred_masked.flatten()\n",
        "    temp_pred_masked = temp_pred_masked[mask[:,0] != 0]\n",
        "    batch_pred[:,j] = temp_pred_masked\n",
        "    r_arr[:,j] = [r_regression(Y_list_masked[m].reshape(-1,1), batch_pred[:,j])[0] for m in range(20)]\n",
        "\n",
        "  r_matrix[:, 16 - 4*i : 20 - 4*i] = r_arr\n",
        "\n",
        "  for z in range(6):\n",
        "    for j in range(4):\n",
        "      X[z].insert(0, X[z].pop(19))\n",
        "      Y[z].insert(0, Y[z].pop(19))\n",
        "\n",
        "  print(i)\n",
        "\n"
      ],
      "metadata": {
        "id": "TzrNbNnAkte-"
      },
      "execution_count": null,
      "outputs": []
    },
    {
      "cell_type": "code",
      "source": [
        "# plot correlation matrix for all subject excluding validation set (20 subjects)\n",
        "\n",
        "fig = sns.heatmap(r_matrix, cmap = 'Spectral')\n",
        "fig.set_title('Pearson Correlation Matrix')\n",
        "fig.set(xlabel='Predicted PET Scan', ylabel='Real PET Scan')\n",
        "plt.show()"
      ],
      "metadata": {
        "colab": {
          "base_uri": "https://localhost:8080/"
        },
        "id": "4PkCPYoemqP9",
        "outputId": "035c03ee-6dbc-4a0b-e2bd-2b6c9680d542"
      },
      "execution_count": null,
      "outputs": [
        {
          "output_type": "display_data",
          "data": {
            "text/plain": [
              "<Figure size 640x480 with 2 Axes>"
            ],
            "image/png": "[encoded data removed]"
          },
          "metadata": {}
        }
      ]
    },
    {
      "cell_type": "code",
      "source": [
        "# extract meaningful values from the matrix\n",
        "\n",
        "r_diag = np.array([r_matrix[i,i] for i in range(20)])\n",
        "r_diag_mean = r_diag.mean()\n",
        "r_mean = r_matrix.mean()\n",
        "r_std = r_matrix.std()\n",
        "[r_mean, r_diag_mean, r_diag_mean - r_mean, r_std]"
      ],
      "metadata": {
        "colab": {
          "base_uri": "https://localhost:8080/"
        },
        "id": "LQe6abzHfVTU",
        "outputId": "52a70791-1a2b-4fcc-b9f7-bd0476cce1f6"
      },
      "execution_count": null,
      "outputs": [
        {
          "output_type": "execute_result",
          "data": {
            "text/plain": [
              "[0.906748087255305,\n",
              " 0.9081152745036233,\n",
              " 0.0013671872483183023,\n",
              " 0.02920840920308092]"
            ]
          },
          "metadata": {},
          "execution_count": 49
        }
      ]
    }
  ],
  "metadata": {
    "colab": {
      "machine_shape": "hm",
      "provenance": [],
      "authorship_tag": "ABX9TyOQlMAkS0Mb4Q6jVjfRn0Ep"
    },
    "kernelspec": {
      "display_name": "Python 3",
      "name": "python3"
    },
    "language_info": {
      "name": "python"
    }
  },
  "nbformat": 4,
  "nbformat_minor": 0
}