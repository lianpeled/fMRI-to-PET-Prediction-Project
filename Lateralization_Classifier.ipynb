{
  "cells": [
    {
      "cell_type": "code",
      "execution_count": null,
      "metadata": {
        "colab": {
          "base_uri": "https://localhost:8080/"
        },
        "id": "pNo7v_hNGYEx",
        "outputId": "e3fd847f-935a-4001-b36b-438ef44f2bbe"
      },
      "outputs": [
        {
          "name": "stdout",
          "output_type": "stream",
          "text": [
            "Mounted at /content/drive\n"
          ]
        }
      ],
      "source": [
        "from google.colab import drive\n",
        "drive.mount('/content/drive')"
      ]
    },
    {
      "cell_type": "code",
      "execution_count": null,
      "metadata": {
        "id": "iIwM48nCGoCW"
      },
      "outputs": [],
      "source": [
        "import os\n",
        "import nibabel as nib\n",
        "import matplotlib.pyplot as plt\n",
        "import numpy as np\n",
        "import xgboost as xgb\n",
        "import random\n",
        "from sklearn.preprocessing import MinMaxScaler\n",
        "from sklearn.feature_selection import r_regression\n",
        "from sklearn.metrics import roc_auc_score"
      ]
    },
    {
      "cell_type": "code",
      "execution_count": null,
      "metadata": {
        "id": "kiqaHyfuASGf"
      },
      "outputs": [],
      "source": [
        "# load and prepare right and left striatal masks\n",
        "\n",
        "mask = nib.load('/content/drive/MyDrive/1 Sagol Project/Mask/Tian_Subcortex_S3_3T.nii').get_fdata()\n",
        "\n",
        "striatum = list(range(11, 19)) + list(range(22,24)) + list(range(36, 44)) + list(range(47,49))\n",
        "\n",
        "\n",
        "bool_mask = np.isin(mask, striatum)\n",
        "\n",
        "mask[~bool_mask] = 0\n",
        "mask[bool_mask] = 1\n",
        "\n",
        "r_mask, l_mask = np.copy(mask), np.copy(mask)\n",
        "r_mask[45:,:,:] = 0;\n",
        "r_mask = r_mask.flatten()\n",
        "l_mask[:45,:,:] = 0;\n",
        "l_mask = l_mask.flatten()\n",
        "\n",
        "mask = mask.flatten()\n",
        "mask = np.stack([mask for i in range(0,50)])\n",
        "mask = np.transpose(mask)"
      ]
    },
    {
      "cell_type": "code",
      "execution_count": null,
      "metadata": {
        "id": "LKSxsKtkes_X"
      },
      "outputs": [],
      "source": [
        "# initialize normalization operator\n",
        "\n",
        "mm = MinMaxScaler()"
      ]
    },
    {
      "cell_type": "code",
      "execution_count": null,
      "metadata": {
        "id": "bLwbHufKGsDs"
      },
      "outputs": [],
      "source": [
        "# establish data paths\n",
        "\n",
        "fmri_folder_path = '/content/drive/MyDrive/1 Sagol Project/Features/'\n",
        "pet_folder_path = '/content/drive/MyDrive/1 Sagol Project/PET/'"
      ]
    },
    {
      "cell_type": "code",
      "execution_count": null,
      "metadata": {
        "id": "0hBT4UCgsoA-"
      },
      "outputs": [],
      "source": [
        "# load PET data\n",
        "\n",
        "original_Y = []\n",
        "\n",
        "for file in os.listdir(pet_folder_path):\n",
        "  file_path = os.path.join(pet_folder_path, file)\n",
        "  temp_pet = nib.load(file_path).get_fdata()\n",
        "  temp_pet = temp_pet.flatten()[mask[:,0] != 0]\n",
        "  temp_pet = mm.fit_transform(temp_pet.reshape(-1,1)).flatten()\n",
        "  original_Y.append(temp_pet)\n"
      ]
    },
    {
      "cell_type": "code",
      "execution_count": null,
      "metadata": {
        "id": "qLQsnOtcsqBS"
      },
      "outputs": [],
      "source": [
        "# load FC data\n",
        "\n",
        "original_X = []\n",
        "\n",
        "for file in os.listdir(fmri_folder_path):\n",
        "  file_path = os.path.join(fmri_folder_path, file)\n",
        "  temp_fmri = nib.load(file_path).get_fdata()\n",
        "  temp_fmri = temp_fmri.reshape(-1, temp_fmri.shape[-1])\n",
        "  temp_fmri = temp_fmri[~np.all(mask == 0, axis=1)]\n",
        "  temp_fmri = mm.fit_transform(temp_fmri)\n",
        "  original_X.append(temp_fmri)"
      ]
    },
    {
      "cell_type": "code",
      "execution_count": null,
      "metadata": {
        "id": "egjVV69ps2Sz"
      },
      "outputs": [],
      "source": [
        "# select only subjects which have consistent imaging and clinical lateralization labels\n",
        "\n",
        "X, Y = [], []\n",
        "\n",
        "for i in range(26):\n",
        "  if i not in (4,5,11,15,17,20,22,24):\n",
        "    Y.append(original_Y[i])\n",
        "    X.append(original_X[i])"
      ]
    },
    {
      "cell_type": "code",
      "execution_count": null,
      "metadata": {
        "id": "NZqs8Sjowqgb"
      },
      "outputs": [],
      "source": [
        "# 0 - right, 1 - left, 18 Subjects\n",
        "clinical_labels = [1, 1, 1, 1, 1, 0, 0, 0, 0, 0, 0, 1, 0, 0, 1, 0, 0, 0]"
      ]
    },
    {
      "cell_type": "code",
      "execution_count": null,
      "metadata": {
        "id": "pCGM9DdOzEWP"
      },
      "outputs": [],
      "source": [
        "comp = [{} for i in range(18)]\n",
        "pred_list = [0 for i in range(18)]"
      ]
    },
    {
      "cell_type": "code",
      "execution_count": null,
      "metadata": {
        "id": "6_k-jVmlwvK4"
      },
      "outputs": [],
      "source": [
        "# LOO-CV classification routine\n",
        "\n",
        "for i in range(18):\n",
        "\n",
        "  features = np.concatenate(X[:17])\n",
        "  target = np.concatenate(Y[:17])\n",
        "  xgb_model = xgb.XGBRegressor(max_depth = 3).fit(features, target)\n",
        "  pred = xgb_model.predict(X[17])\n",
        "\n",
        "  pred_copy = np.copy(pred)\n",
        "  unmasked_pet = np.copy(mask[:,0])\n",
        "\n",
        "  for k in range(len(mask[:,0])):\n",
        "    if unmasked_pet[k] == 1:\n",
        "      unmasked_pet[k] = pred_copy[0];\n",
        "      pred_copy = pred_copy[1:];\n",
        "\n",
        "  pred = unmasked_pet\n",
        "\n",
        "  # calculating mean PET activation in each hemisphere\n",
        "\n",
        "  pred_SUVR_r, pred_SUVR_l = pred[r_mask!= 0].mean(), pred[l_mask!= 0].mean()\n",
        "  pred_label = (pred_SUVR_r > pred_SUVR_l).astype(int)\n",
        "  comp[17-i] = {'Predicted': pred_label, 'Real': clinical_labels[17-i], 'Right_Prediction': pred_label == clinical_labels[17-i]}\n",
        "  pred_list[17-i] = pred_label\n",
        "\n",
        "  X.insert(0, X.pop(17))\n",
        "  Y.insert(0, Y.pop(17))"
      ]
    },
    {
      "cell_type": "code",
      "execution_count": null,
      "metadata": {
        "colab": {
          "base_uri": "https://localhost:8080/"
        },
        "id": "FI9yd7YYVF7o",
        "outputId": "69c04d21-0113-4fce-d13b-10571190fbea"
      },
      "outputs": [
        {
          "data": {
            "text/plain": [
              "[0.6111111111111112, 11]"
            ]
          },
          "execution_count": 12,
          "metadata": {},
          "output_type": "execute_result"
        }
      ],
      "source": [
        "right_pred = sum([comp[i]['Right_Prediction'] for i in range(18)])\n",
        "\n",
        "accuracy = right_pred/18\n",
        "[accuracy, right_pred]"
      ]
    },
    {
      "cell_type": "code",
      "execution_count": null,
      "metadata": {
        "colab": {
          "base_uri": "https://localhost:8080/"
        },
        "id": "VT5mbC_Cz07l",
        "outputId": "28eb708e-9a27-41ef-f058-0d170edf51fb"
      },
      "outputs": [
        {
          "data": {
            "text/plain": [
              "0.6558441558441559"
            ]
          },
          "execution_count": 14,
          "metadata": {},
          "output_type": "execute_result"
        }
      ],
      "source": [
        "auc = roc_auc_score(clinical_labels, pred_list)\n",
        "auc"
      ]
    },
    {
      "cell_type": "code",
      "execution_count": null,
      "metadata": {
        "colab": {
          "base_uri": "https://localhost:8080/"
        },
        "id": "XYbd82qlh3SS",
        "outputId": "b628c5e5-2298-4e33-e930-cebe61360b76"
      },
      "outputs": [
        {
          "data": {
            "text/plain": [
              "[{'Predicted': 1, 'Real': 1, 'Right_Prediction': True},\n",
              " {'Predicted': 1, 'Real': 1, 'Right_Prediction': True},\n",
              " {'Predicted': 1, 'Real': 1, 'Right_Prediction': True},\n",
              " {'Predicted': 1, 'Real': 1, 'Right_Prediction': True},\n",
              " {'Predicted': 1, 'Real': 1, 'Right_Prediction': True},\n",
              " {'Predicted': 0, 'Real': 0, 'Right_Prediction': True},\n",
              " {'Predicted': 1, 'Real': 0, 'Right_Prediction': False},\n",
              " {'Predicted': 1, 'Real': 0, 'Right_Prediction': False},\n",
              " {'Predicted': 1, 'Real': 0, 'Right_Prediction': False},\n",
              " {'Predicted': 1, 'Real': 0, 'Right_Prediction': False},\n",
              " {'Predicted': 1, 'Real': 0, 'Right_Prediction': False},\n",
              " {'Predicted': 1, 'Real': 1, 'Right_Prediction': True},\n",
              " {'Predicted': 1, 'Real': 0, 'Right_Prediction': False},\n",
              " {'Predicted': 0, 'Real': 0, 'Right_Prediction': True},\n",
              " {'Predicted': 0, 'Real': 1, 'Right_Prediction': False},\n",
              " {'Predicted': 0, 'Real': 0, 'Right_Prediction': True},\n",
              " {'Predicted': 0, 'Real': 0, 'Right_Prediction': True},\n",
              " {'Predicted': 0, 'Real': 0, 'Right_Prediction': True}]"
            ]
          },
          "execution_count": 15,
          "metadata": {},
          "output_type": "execute_result"
        }
      ],
      "source": [
        "comp"
      ]
    },
    {
      "cell_type": "code",
      "execution_count": null,
      "metadata": {
        "id": "vGSz5fOC1s34"
      },
      "outputs": [],
      "source": [
        "# permutation test\n",
        "\n",
        "pred_list = [0 for i in range(18)]\n",
        "auc_arr = np.zeros(1000)\n",
        "auc_arr[0] = auc"
      ]
    },
    {
      "cell_type": "code",
      "execution_count": null,
      "metadata": {
        "id": "uS461Ww11yqF"
      },
      "outputs": [],
      "source": [
        "for test_num in range(1,1000):\n",
        "\n",
        "  zipped = list(zip(Y, clinical_labels))\n",
        "  random.shuffle(zipped)\n",
        "  Y, clinical_labels = zip(*zipped)\n",
        "  Y, clinical_labels = list(Y), list(clinical_labels)\n",
        "\n",
        "  for i in range(18):\n",
        "\n",
        "    features = np.concatenate(X[:17])\n",
        "    target = np.concatenate(Y[:17])\n",
        "    xgb_model = xgb.XGBRegressor(max_depth = 3).fit(features, target)\n",
        "    pred = xgb_model.predict(X[17])\n",
        "\n",
        "    pred_copy = np.copy(pred)\n",
        "    unmasked_pet = np.copy(mask[:,0])\n",
        "\n",
        "    for k in range(len(mask[:,0])):\n",
        "      if unmasked_pet[k] == 1:\n",
        "        unmasked_pet[k] = pred_copy[0];\n",
        "        pred_copy = pred_copy[1:];\n",
        "\n",
        "    pred = unmasked_pet\n",
        "\n",
        "    pred_SUVR_r, pred_SUVR_l = pred[r_mask!= 0].mean(), pred[l_mask!= 0].mean()\n",
        "    pred_label = (pred_SUVR_r > pred_SUVR_l).astype(int)\n",
        "    pred_list[17-i] = pred_label\n",
        "\n",
        "    X.insert(0, X.pop(17))\n",
        "    Y.insert(0, Y.pop(17))\n",
        "\n",
        "  auc_arr[test_num] = roc_auc_score(clinical_labels, pred_list)\n",
        "\n",
        "  print(test_num)\n",
        "  print(auc_arr[test_num])\n"
      ]
    },
    {
      "cell_type": "code",
      "execution_count": null,
      "metadata": {
        "id": "YOkTRFNO2AIy",
        "colab": {
          "base_uri": "https://localhost:8080/"
        },
        "outputId": "2fb88707-26cd-4d28-f2e5-d2245011960f"
      },
      "outputs": [
        {
          "data": {
            "text/plain": [
              "0.096"
            ]
          },
          "execution_count": 23,
          "metadata": {},
          "output_type": "execute_result"
        }
      ],
      "source": [
        "auc_p_value = np.sum(auc_arr >= auc)/1000\n",
        "auc_p_value"
      ]
    }
  ],
  "metadata": {
    "colab": {
      "provenance": [],
      "authorship_tag": "ABX9TyN5Q0bNy1mLZbA41rcDIOnv"
    },
    "kernelspec": {
      "display_name": "Python 3",
      "name": "python3"
    },
    "language_info": {
      "name": "python"
    }
  },
  "nbformat": 4,
  "nbformat_minor": 0
}