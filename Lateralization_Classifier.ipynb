{
  "nbformat": 4,
  "nbformat_minor": 0,
  "metadata": {
    "colab": {
      "provenance": [],
      "authorship_tag": "ABX9TyOxLrl1vOptDCkf4xDxP95G"
    },
    "kernelspec": {
      "name": "python3",
      "display_name": "Python 3"
    },
    "language_info": {
      "name": "python"
    }
  },
  "cells": [
    {
      "cell_type": "code",
      "execution_count": null,
      "metadata": {
        "colab": {
          "base_uri": "https://localhost:8080/"
        },
        "id": "pNo7v_hNGYEx",
        "outputId": "51d0e2cc-4e0c-4068-989a-9196b666d201"
      },
      "outputs": [
        {
          "output_type": "stream",
          "name": "stdout",
          "text": [
            "Mounted at /content/drive\n"
          ]
        }
      ],
      "source": [
        "from google.colab import drive\n",
        "drive.mount('/content/drive')"
      ]
    },
    {
      "cell_type": "code",
      "source": [
        "import os\n",
        "import nibabel as nib\n",
        "import matplotlib.pyplot as plt\n",
        "import numpy as np\n",
        "import xgboost as xgb\n",
        "from sklearn.preprocessing import MinMaxScaler\n",
        "from sklearn.feature_selection import r_regression"
      ],
      "metadata": {
        "id": "iIwM48nCGoCW"
      },
      "execution_count": null,
      "outputs": []
    },
    {
      "cell_type": "code",
      "source": [
        "# load and prepare right and left striatal masks\n",
        "\n",
        "mask = nib.load('/content/drive/MyDrive/1 Sagol Project/Mask/Tian_Subcortex_S3_3T.nii').get_fdata()\n",
        "\n",
        "striatum = list(range(11, 19)) + list(range(22,24)) + list(range(36, 44)) + list(range(47,49))\n",
        "\n",
        "\n",
        "bool_mask = np.isin(mask, striatum)\n",
        "\n",
        "mask[~bool_mask] = 0\n",
        "mask[bool_mask] = 1\n",
        "\n",
        "r_mask, l_mask = np.copy(mask), np.copy(mask)\n",
        "r_mask[45:,:,:] = 0;\n",
        "r_mask = r_mask.flatten()\n",
        "l_mask[:45,:,:] = 0;\n",
        "l_mask = l_mask.flatten()\n",
        "\n",
        "mask = mask.flatten()\n",
        "mask = np.stack([mask for i in range(0,50)])\n",
        "mask = np.transpose(mask)"
      ],
      "metadata": {
        "id": "kiqaHyfuASGf"
      },
      "execution_count": null,
      "outputs": []
    },
    {
      "cell_type": "code",
      "source": [
        "# establish data paths\n",
        "\n",
        "fmri_folder_path = '/content/drive/MyDrive/1 Sagol Project/Features/'\n",
        "pet_folder_path = '/content/drive/MyDrive/1 Sagol Project/PET/'"
      ],
      "metadata": {
        "id": "bLwbHufKGsDs"
      },
      "execution_count": null,
      "outputs": []
    },
    {
      "cell_type": "code",
      "source": [
        "# initialize normalization operator\n",
        "\n",
        "mm = MinMaxScaler()"
      ],
      "metadata": {
        "id": "6V_2ooN4stNW"
      },
      "execution_count": null,
      "outputs": []
    },
    {
      "cell_type": "code",
      "source": [
        "# load PET data\n",
        "\n",
        "Y = []\n",
        "\n",
        "for file in os.listdir(pet_folder_path):\n",
        "  file_path = os.path.join(pet_folder_path, file)\n",
        "  temp_pet = nib.load(file_path).get_fdata()\n",
        "  temp_pet = temp_pet.flatten()[mask[:,0] != 0]\n",
        "  temp_pet = mm.fit_transform(temp_pet.reshape(-1,1))\n",
        "  Y.append(temp_pet)\n"
      ],
      "metadata": {
        "id": "0hBT4UCgsoA-"
      },
      "execution_count": null,
      "outputs": []
    },
    {
      "cell_type": "code",
      "source": [
        "# load FC data\n",
        "\n",
        "X = []\n",
        "\n",
        "for file in os.listdir(fmri_folder_path):\n",
        "  file_path = os.path.join(fmri_folder_path, file)\n",
        "  temp_fmri = nib.load(file_path).get_fdata()\n",
        "  temp_fmri = temp_fmri.reshape(-1, temp_fmri.shape[-1])\n",
        "  temp_fmri = temp_fmri[~np.all(mask == 0, axis=1)]\n",
        "  temp_fmri = mm.fit_transform(temp_fmri)\n",
        "  X.append(temp_fmri)\n"
      ],
      "metadata": {
        "id": "qLQsnOtcsqBS"
      },
      "execution_count": null,
      "outputs": []
    },
    {
      "cell_type": "code",
      "source": [
        "# select only subjects which have consistent imaging and clinical lateralization labels\n",
        "\n",
        "k = 0\n",
        "\n",
        "for i in range(26):\n",
        "  if i not in (4,5,11,15,17,20,22,24):\n",
        "    Y[k] = Y[i]\n",
        "    X[k] = X[i]\n",
        "    k += 1\n",
        "\n",
        "Y = Y[:18]\n",
        "X = X[:18]"
      ],
      "metadata": {
        "id": "egjVV69ps2Sz"
      },
      "execution_count": null,
      "outputs": []
    },
    {
      "cell_type": "code",
      "source": [
        "# 0 - right, 1 - left, 18 Subjects\n",
        "clinical_labels = [1, 1, 1, 1, 1, 0, 0, 0, 0, 0, 0, 1, 0, 0, 1, 0, 0, 0]"
      ],
      "metadata": {
        "id": "NZqs8Sjowqgb"
      },
      "execution_count": null,
      "outputs": []
    },
    {
      "cell_type": "code",
      "source": [
        "comp = [{} for i in range(18)]\n",
        "pred_list = [0 for i in range(18)]"
      ],
      "metadata": {
        "id": "pCGM9DdOzEWP"
      },
      "execution_count": null,
      "outputs": []
    },
    {
      "cell_type": "code",
      "source": [
        "# LOO-CV classification routine\n",
        "\n",
        "for i in range(18):\n",
        "\n",
        "  features = np.concatenate(X[:17])\n",
        "  target = np.concatenate(Y[:17])\n",
        "  xgb_model = xgb.XGBRegressor(max_depth = 3).fit(features, target)\n",
        "  pred = xgb_model.predict(X[17])\n",
        "\n",
        "  pred_copy = np.copy(pred)\n",
        "  unmasked_pet = np.copy(mask[:,0])\n",
        "\n",
        "  for k in range(len(mask[:,0])):\n",
        "    if unmasked_pet[k] == 1:\n",
        "      unmasked_pet[k] = pred_copy[0];\n",
        "      pred_copy = pred_copy[1:];\n",
        "\n",
        "  pred = unmasked_pet\n",
        "\n",
        "  # calculating mean PET activation in each hemisphere\n",
        "\n",
        "  pred_SUVR_r, pred_SUVR_l = pred[r_mask!= 0].mean(), pred[l_mask!= 0].mean()\n",
        "  pred_label = (pred_SUVR_r > pred_SUVR_l).astype(int)\n",
        "  comp[17-i] = {'Predicted': pred_label, 'Real': clinical_labels[17-i], 'Right_Prediction': pred_label == clinical_labels[17-i]}\n",
        "  pred_list[17-i] = pred_label\n",
        "\n",
        "  X.insert(0, X.pop(17))\n",
        "  Y.insert(0, Y.pop(17))"
      ],
      "metadata": {
        "id": "6_k-jVmlwvK4"
      },
      "execution_count": null,
      "outputs": []
    },
    {
      "cell_type": "code",
      "source": [
        "right_pred = sum([comp[i]['Right_Prediction'] for i in range(18)])\n",
        "\n",
        "accuracy = right_pred/18\n",
        "[accuracy, right_pred]"
      ],
      "metadata": {
        "id": "FI9yd7YYVF7o",
        "colab": {
          "base_uri": "https://localhost:8080/"
        },
        "outputId": "6adc79e0-4973-4e58-ac3e-23c8c680c6dd"
      },
      "execution_count": null,
      "outputs": [
        {
          "output_type": "execute_result",
          "data": {
            "text/plain": [
              "[0.7222222222222222, 13]"
            ]
          },
          "metadata": {},
          "execution_count": 95
        }
      ]
    },
    {
      "cell_type": "code",
      "source": [
        "comp"
      ],
      "metadata": {
        "colab": {
          "base_uri": "https://localhost:8080/"
        },
        "id": "XYbd82qlh3SS",
        "outputId": "8ca09d40-29c0-4220-d4db-b41cccbf7243"
      },
      "execution_count": null,
      "outputs": [
        {
          "output_type": "execute_result",
          "data": {
            "text/plain": [
              "[{'Predicted': 0, 'Real': 1, 'Right_Prediction': False},\n",
              " {'Predicted': 1, 'Real': 1, 'Right_Prediction': True},\n",
              " {'Predicted': 1, 'Real': 1, 'Right_Prediction': True},\n",
              " {'Predicted': 0, 'Real': 1, 'Right_Prediction': False},\n",
              " {'Predicted': 0, 'Real': 1, 'Right_Prediction': False},\n",
              " {'Predicted': 0, 'Real': 0, 'Right_Prediction': True},\n",
              " {'Predicted': 0, 'Real': 0, 'Right_Prediction': True},\n",
              " {'Predicted': 0, 'Real': 0, 'Right_Prediction': True},\n",
              " {'Predicted': 0, 'Real': 0, 'Right_Prediction': True},\n",
              " {'Predicted': 1, 'Real': 0, 'Right_Prediction': False},\n",
              " {'Predicted': 0, 'Real': 0, 'Right_Prediction': True},\n",
              " {'Predicted': 1, 'Real': 1, 'Right_Prediction': True},\n",
              " {'Predicted': 0, 'Real': 0, 'Right_Prediction': True},\n",
              " {'Predicted': 0, 'Real': 0, 'Right_Prediction': True},\n",
              " {'Predicted': 0, 'Real': 1, 'Right_Prediction': False},\n",
              " {'Predicted': 0, 'Real': 0, 'Right_Prediction': True},\n",
              " {'Predicted': 0, 'Real': 0, 'Right_Prediction': True},\n",
              " {'Predicted': 0, 'Real': 0, 'Right_Prediction': True}]"
            ]
          },
          "metadata": {},
          "execution_count": 96
        }
      ]
    }
  ]
}