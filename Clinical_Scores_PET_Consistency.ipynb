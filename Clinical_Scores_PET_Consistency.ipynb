{
  "nbformat": 4,
  "nbformat_minor": 0,
  "metadata": {
    "colab": {
      "provenance": [],
      "authorship_tag": "ABX9TyNzDIBMWyLaS9FIYkzCac4T"
    },
    "kernelspec": {
      "name": "python3",
      "display_name": "Python 3"
    },
    "language_info": {
      "name": "python"
    }
  },
  "cells": [
    {
      "cell_type": "code",
      "execution_count": null,
      "metadata": {
        "colab": {
          "base_uri": "https://localhost:8080/"
        },
        "id": "pNo7v_hNGYEx",
        "outputId": "f17a9074-baaf-47f6-d154-886c92bf2828"
      },
      "outputs": [
        {
          "output_type": "stream",
          "name": "stdout",
          "text": [
            "Mounted at /content/drive\n"
          ]
        }
      ],
      "source": [
        "from google.colab import drive\n",
        "drive.mount('/content/drive')"
      ]
    },
    {
      "cell_type": "code",
      "source": [
        "import os\n",
        "import nibabel as nib\n",
        "import matplotlib.pyplot as plt\n",
        "import numpy as np"
      ],
      "metadata": {
        "id": "iIwM48nCGoCW"
      },
      "execution_count": null,
      "outputs": []
    },
    {
      "cell_type": "code",
      "source": [
        "# prepare right and left striatal masks\n",
        "\n",
        "mask = nib.load('/content/drive/MyDrive/1 Sagol Project/Mask/Tian_Subcortex_S3_3T.nii').get_fdata()\n",
        "\n",
        "striatum = list(range(11, 19)) + list(range(22,24)) + list(range(36, 44)) + list(range(47,49))\n",
        "\n",
        "bool_mask = np.isin(mask, striatum)\n",
        "\n",
        "mask[~bool_mask] = 0\n",
        "mask[bool_mask] = 1\n",
        "\n",
        "\n",
        "r_mask, l_mask = np.copy(mask), np.copy(mask)\n",
        "r_mask[44:,:,:] = 0;\n",
        "r_mask = r_mask.flatten()\n",
        "l_mask[:44,:,:] = 0;\n",
        "l_mask = l_mask.flatten()\n",
        "mask = mask.flatten()"
      ],
      "metadata": {
        "id": "STNJYe9zZM_l"
      },
      "execution_count": null,
      "outputs": []
    },
    {
      "cell_type": "code",
      "source": [
        "# load PET files\n",
        "\n",
        "filepaths = ['/content/drive/MyDrive/1 Sagol Project/PET/AH_PET_standard.nii.gz',\n",
        "'/content/drive/MyDrive/1 Sagol Project/PET/AN_PET_standard.nii.gz',\n",
        "'/content/drive/MyDrive/1 Sagol Project/PET/BA_PET_standard.nii.gz',\n",
        "'/content/drive/MyDrive/1 Sagol Project/PET/BE_PET_standard.nii.gz',\n",
        "'/content/drive/MyDrive/1 Sagol Project/PET/BL_PET_standard.nii.gz',\n",
        "'/content/drive/MyDrive/1 Sagol Project/PET/BU_PET_standard.nii.gz',\n",
        "'/content/drive/MyDrive/1 Sagol Project/PET/FM_PET_standard.nii.gz',\n",
        "'/content/drive/MyDrive/1 Sagol Project/PET/GL_PET_standard.nii.gz',\n",
        "'/content/drive/MyDrive/1 Sagol Project/PET/GU_PET_standard.nii.gz',\n",
        "'/content/drive/MyDrive/1 Sagol Project/PET/KA_PET_standard.nii.gz',\n",
        "'/content/drive/MyDrive/1 Sagol Project/PET/KB_PET_standard.nii.gz',\n",
        "'/content/drive/MyDrive/1 Sagol Project/PET/KS_PET_standard.nii.gz',\n",
        "'/content/drive/MyDrive/1 Sagol Project/PET/MA_PET_standard.nii.gz',\n",
        "'/content/drive/MyDrive/1 Sagol Project/PET/ME_PET_standard.nii.gz',\n",
        "'/content/drive/MyDrive/1 Sagol Project/PET/MO_PET_standard.nii.gz',\n",
        "'/content/drive/MyDrive/1 Sagol Project/PET/RU_PET_standard.nii.gz',\n",
        "'/content/drive/MyDrive/1 Sagol Project/PET/SA_PET_standard.nii.gz',\n",
        "'/content/drive/MyDrive/1 Sagol Project/PET/SH_PET_standard.nii.gz',\n",
        "'/content/drive/MyDrive/1 Sagol Project/PET/SZ_PET_standard.nii.gz',\n",
        "'/content/drive/MyDrive/1 Sagol Project/PET/TI_PET_standard.nii.gz',\n",
        "'/content/drive/MyDrive/1 Sagol Project/PET/TU_PET_standard_brain.nii.gz']\n",
        "\n"
      ],
      "metadata": {
        "id": "E3bW7j_yJoI8"
      },
      "execution_count": null,
      "outputs": []
    },
    {
      "cell_type": "code",
      "source": [
        "# separate right and left striatal PET scans using masks\n",
        "\n",
        "Y, Y_right, Y_left = [0 for i in range(21)], [0 for i in range(21)], [0 for i in range(21)]\n",
        "for idx, filepath in enumerate(filepaths):\n",
        "  temp_pet = nib.load(filepath).get_fdata()\n",
        "  Y[idx] = temp_pet\n",
        "  temp_pet = temp_pet.flatten()\n",
        "  Y_right[idx] = temp_pet[r_mask != 0]\n",
        "  Y_left[idx] = temp_pet[l_mask != 0]\n"
      ],
      "metadata": {
        "id": "qmuTJJpFKGsh"
      },
      "execution_count": null,
      "outputs": []
    },
    {
      "cell_type": "code",
      "source": [
        "# calculate mean PET activation in right and left striatum\n",
        "\n",
        "mean_SUVR_right = [Y_right[i].mean() for i in range(21)]\n",
        "mean_SUVR_left = [Y_left[i].mean() for i in range(21)]"
      ],
      "metadata": {
        "id": "IWa_KjGM-MKi"
      },
      "execution_count": null,
      "outputs": []
    },
    {
      "cell_type": "code",
      "source": [
        "# assign lateralization label based on PET\n",
        "# 0 - right, 1 - left\n",
        "\n",
        "pet_labels = [(mean_SUVR_right[i] > mean_SUVR_left[i]).astype(int) for i in range(21)]"
      ],
      "metadata": {
        "id": "GmjCYorc-ZLC"
      },
      "execution_count": null,
      "outputs": []
    },
    {
      "cell_type": "code",
      "source": [
        "# lateralization label based on clinical scores\n",
        "# 0 - right, 1 - left\n",
        "\n",
        "clinical_labels = [1, 1, 1, 1, 0, 1, 0, 0, 0, 0, 0, 0, 0, 1, 0, 0, 1, 0, 0, 0, 0]"
      ],
      "metadata": {
        "id": "zMDxIEoz-j0N"
      },
      "execution_count": null,
      "outputs": []
    },
    {
      "cell_type": "code",
      "source": [
        "# check for which subjects the labels are matching\n",
        "\n",
        "comp = [clinical_labels[i] == pet_labels[i] for i in range(21)]\n",
        "comp"
      ],
      "metadata": {
        "colab": {
          "base_uri": "https://localhost:8080/"
        },
        "id": "4fMFaU4e_Fgf",
        "outputId": "79a95830-03f5-47f2-ff15-aa1a07954ca3"
      },
      "execution_count": null,
      "outputs": [
        {
          "output_type": "execute_result",
          "data": {
            "text/plain": [
              "[True,\n",
              " True,\n",
              " True,\n",
              " True,\n",
              " False,\n",
              " True,\n",
              " True,\n",
              " True,\n",
              " True,\n",
              " True,\n",
              " False,\n",
              " True,\n",
              " True,\n",
              " True,\n",
              " True,\n",
              " True,\n",
              " True,\n",
              " True,\n",
              " True,\n",
              " False,\n",
              " True]"
            ]
          },
          "metadata": {},
          "execution_count": 14
        }
      ]
    }
  ]
}