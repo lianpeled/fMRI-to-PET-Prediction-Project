{
  "cells": [
    {
      "cell_type": "code",
      "execution_count": 5,
      "metadata": {
        "colab": {
          "base_uri": "https://localhost:8080/"
        },
        "id": "pNo7v_hNGYEx",
        "outputId": "52b75fa5-fd27-4908-fa33-0451445a4651"
      },
      "outputs": [
        {
          "output_type": "stream",
          "name": "stdout",
          "text": [
            "Drive already mounted at /content/drive; to attempt to forcibly remount, call drive.mount(\"/content/drive\", force_remount=True).\n"
          ]
        }
      ],
      "source": [
        "from google.colab import drive\n",
        "drive.mount('/content/drive')"
      ]
    },
    {
      "cell_type": "code",
      "execution_count": 6,
      "metadata": {
        "id": "iIwM48nCGoCW"
      },
      "outputs": [],
      "source": [
        "import os\n",
        "import nibabel as nib\n",
        "import matplotlib.pyplot as plt\n",
        "import numpy as np"
      ]
    },
    {
      "cell_type": "code",
      "execution_count": 7,
      "metadata": {
        "id": "STNJYe9zZM_l"
      },
      "outputs": [],
      "source": [
        "# prepare right and left striatal masks\n",
        "\n",
        "mask = nib.load('/content/drive/MyDrive/1 Sagol Project/Mask/Tian_Subcortex_S3_3T.nii').get_fdata()\n",
        "\n",
        "striatum = list(range(11, 19)) + list(range(22,24)) + list(range(36, 44)) + list(range(47,49))\n",
        "\n",
        "bool_mask = np.isin(mask, striatum)\n",
        "\n",
        "mask[~bool_mask] = 0\n",
        "mask[bool_mask] = 1\n",
        "\n",
        "\n",
        "r_mask, l_mask = np.copy(mask), np.copy(mask)\n",
        "r_mask[44:,:,:] = 0;\n",
        "r_mask = r_mask.flatten()\n",
        "l_mask[:44,:,:] = 0;\n",
        "l_mask = l_mask.flatten()\n",
        "mask = mask.flatten()"
      ]
    },
    {
      "cell_type": "code",
      "execution_count": 8,
      "metadata": {
        "id": "E3bW7j_yJoI8"
      },
      "outputs": [],
      "source": [
        "# load PET files and separate right and left striatal PET scans using masks\n",
        "\n",
        "pet_folder_path = '/content/drive/MyDrive/1 Sagol Project/PET/'\n",
        "\n",
        "original_Y_right, original_Y_left = [], []\n",
        "\n",
        "for file in os.listdir(pet_folder_path):\n",
        "  file_path = os.path.join(pet_folder_path, file)\n",
        "  temp_pet = nib.load(file_path).get_fdata()\n",
        "  temp_pet = temp_pet.flatten()\n",
        "  original_Y_right.append(temp_pet[r_mask != 0])\n",
        "  original_Y_left.append(temp_pet[l_mask != 0])\n",
        "\n"
      ]
    },
    {
      "cell_type": "code",
      "source": [
        "# select only subjects which have clinical lateralization scores\n",
        "\n",
        "Y_right, Y_left = [], []\n",
        "\n",
        "for i in range(26):\n",
        "  if i not in (5, 15, 17, 20, 22):\n",
        "    Y_right.append(original_Y_right[i])\n",
        "    Y_left.append(original_Y_left[i])"
      ],
      "metadata": {
        "id": "J139ahSBVcVS"
      },
      "execution_count": 9,
      "outputs": []
    },
    {
      "cell_type": "code",
      "execution_count": 10,
      "metadata": {
        "id": "IWa_KjGM-MKi"
      },
      "outputs": [],
      "source": [
        "# calculate mean PET activation in right and left striatum\n",
        "\n",
        "mean_SUVR_right = [Y_right[i].mean() for i in range(21)]\n",
        "mean_SUVR_left = [Y_left[i].mean() for i in range(21)]"
      ]
    },
    {
      "cell_type": "code",
      "execution_count": 11,
      "metadata": {
        "id": "GmjCYorc-ZLC"
      },
      "outputs": [],
      "source": [
        "# assign lateralization label based on PET\n",
        "# 0 - right, 1 - left\n",
        "\n",
        "pet_labels = [(mean_SUVR_right[i] > mean_SUVR_left[i]).astype(int) for i in range(21)]"
      ]
    },
    {
      "cell_type": "code",
      "execution_count": 12,
      "metadata": {
        "id": "zMDxIEoz-j0N"
      },
      "outputs": [],
      "source": [
        "# lateralization label based on clinical scores\n",
        "# 0 - right, 1 - left\n",
        "\n",
        "clinical_labels = [1, 1, 1, 1, 0, 1, 0, 0, 0, 0, 0, 0, 0, 1, 0, 0, 1, 0, 0, 0, 0]"
      ]
    },
    {
      "cell_type": "code",
      "execution_count": 13,
      "metadata": {
        "colab": {
          "base_uri": "https://localhost:8080/"
        },
        "id": "4fMFaU4e_Fgf",
        "outputId": "7e5fca8d-a3ed-4b07-99c6-dee3d21ffc9c"
      },
      "outputs": [
        {
          "output_type": "execute_result",
          "data": {
            "text/plain": [
              "[True,\n",
              " True,\n",
              " True,\n",
              " True,\n",
              " False,\n",
              " True,\n",
              " True,\n",
              " True,\n",
              " True,\n",
              " True,\n",
              " False,\n",
              " True,\n",
              " True,\n",
              " True,\n",
              " True,\n",
              " True,\n",
              " True,\n",
              " True,\n",
              " True,\n",
              " False,\n",
              " True]"
            ]
          },
          "metadata": {},
          "execution_count": 13
        }
      ],
      "source": [
        "# check for which subjects the labels are matching\n",
        "\n",
        "comp = [clinical_labels[i] == pet_labels[i] for i in range(21)]\n",
        "comp"
      ]
    }
  ],
  "metadata": {
    "colab": {
      "provenance": [],
      "authorship_tag": "ABX9TyNhMXoIWdAHlE1jfgzDwqrk"
    },
    "kernelspec": {
      "display_name": "Python 3",
      "name": "python3"
    },
    "language_info": {
      "name": "python"
    }
  },
  "nbformat": 4,
  "nbformat_minor": 0
}